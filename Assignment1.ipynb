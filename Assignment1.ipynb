{
  "cells": [
    {
      "cell_type": "markdown",
      "metadata": {
        "id": "zavvXtHqsVTt"
      },
      "source": [
        "# Lesson: Python Basics\n",
        "## Topics Covered:\n",
        "- Syntax and Semantics\n",
        "- Variables and Data Types\n",
        "- Basic Operators (Arithmetic, Comparison, Logical)\n"
      ]
    },
    {
      "cell_type": "markdown",
      "metadata": {
        "id": "87Pyvc0ksVTx"
      },
      "source": [
        "## 1. Syntax and Semantics\n",
        "\n",
        "**Question 1:** Write a Python program to print \"Hello, World!\"."
      ]
    },
    {
      "cell_type": "code",
      "metadata": {
        "colab": {
          "base_uri": "https://localhost:8080/"
        },
        "id": "c0tpf-Y9sVTz",
        "outputId": "1ca8934f-40dc-4dd4-8d66-b1e07fcb0c0a"
      },
      "outputs": [
        {
          "output_type": "stream",
          "name": "stdout",
          "text": [
            "Hello,World!\n"
          ]
        }
      ],
      "source": [
        "print(\"Hello,World!\")"
      ],
      "execution_count": null
    },
    {
      "cell_type": "markdown",
      "metadata": {
        "id": "4-VI-0gcsVT1"
      },
      "source": [
        "**Question 2:** Write a Python program that takes a user input and prints it."
      ]
    },
    {
      "cell_type": "code",
      "metadata": {
        "colab": {
          "base_uri": "https://localhost:8080/"
        },
        "id": "gd682OPTsVT2",
        "outputId": "38288a91-729d-4e69-e720-6c50c62722b0"
      },
      "outputs": [
        {
          "output_type": "stream",
          "name": "stdout",
          "text": [
            "plz enter something: richa\n",
            "richa\n"
          ]
        }
      ],
      "source": [
        "user_input = input(\"plz enter something: \")\n",
        "print(user_input)"
      ],
      "execution_count": null
    },
    {
      "cell_type": "markdown",
      "metadata": {
        "id": "o2GFL7gysVT3"
      },
      "source": [
        "**Question 3:** Write a Python program to check if a number is positive, negative, or zero."
      ]
    },
    {
      "cell_type": "code",
      "metadata": {
        "colab": {
          "base_uri": "https://localhost:8080/"
        },
        "id": "eZZYSf29sVT4",
        "outputId": "f54262fd-e3f4-464d-d660-9eb953e782e3"
      },
      "outputs": [
        {
          "output_type": "stream",
          "name": "stdout",
          "text": [
            "Enter num: -5\n",
            "Negative\n"
          ]
        }
      ],
      "source": [
        "num = int(input(\"Enter num: \"))\n",
        "if num > 0:\n",
        "  print(\"Positive\")\n",
        "elif num < 0:\n",
        "  print(\"Negative\")\n",
        "else:\n",
        "  print(\"Zero\")"
      ],
      "execution_count": null
    },
    {
      "cell_type": "markdown",
      "metadata": {
        "id": "7TfzDaoTsVT5"
      },
      "source": [
        "**Question 4:** Write a Python program to find the largest of three numbers."
      ]
    },
    {
      "cell_type": "code",
      "source": [
        "num1 = float(input(\"enter num1: \"))\n",
        "num2 = float(input(\"enter num2: \"))\n",
        "num3 = float(input(\"enter num3: \"))\n",
        "if num1 > num2:\n",
        "  if num1 > num3:\n",
        "    Greatest = num1\n",
        "elif num2 > num3:\n",
        "  Greatest = num2\n",
        "else:\n",
        "  Greatest= num3\n",
        "\n",
        "print(\"Largest: \", Greatest)"
      ],
      "metadata": {
        "colab": {
          "base_uri": "https://localhost:8080/"
        },
        "id": "t1e3x2s4ytiR",
        "outputId": "b090761f-36cc-4e7d-f732-735374053c01"
      },
      "execution_count": null,
      "outputs": [
        {
          "output_type": "stream",
          "name": "stdout",
          "text": [
            "enter num1: 15\n",
            "enter num2: 10\n",
            "enter num3: 5\n",
            "Largest:  15.0\n"
          ]
        }
      ]
    },
    {
      "cell_type": "code",
      "metadata": {
        "colab": {
          "base_uri": "https://localhost:8080/"
        },
        "id": "qZKyYaaesVT6",
        "outputId": "49051730-9926-4a4a-d87c-87b80c3e4fbd"
      },
      "outputs": [
        {
          "output_type": "stream",
          "name": "stdout",
          "text": [
            "enter num1: 2\n",
            "enter num2: 5\n",
            "enter num3: 10\n",
            "Greatest:  10.0\n"
          ]
        }
      ],
      "source": [
        "num1 = float(input(\"enter num1: \"))\n",
        "num2 = float(input(\"enter num2: \"))\n",
        "num3 = float(input(\"enter num3: \"))\n",
        "if num1 > num2:\n",
        "  if num1 > num3:\n",
        "    print(\"Greatest: \",num1)\n",
        "elif num2 > num3:\n",
        "  print(\" Greatest: \", num2)\n",
        "else:\n",
        "  print(\"Greatest: \", num3)"
      ],
      "execution_count": null
    },
    {
      "cell_type": "markdown",
      "metadata": {
        "id": "UPu0GtGvsVT8"
      },
      "source": [
        "**Question 5:** Write a Python program to calculate the factorial of a number."
      ]
    },
    {
      "cell_type": "code",
      "metadata": {
        "id": "zE04xU0xsVT8",
        "colab": {
          "base_uri": "https://localhost:8080/"
        },
        "outputId": "0624399f-0fc3-4861-f0e5-3071bb7f2498"
      },
      "outputs": [
        {
          "output_type": "stream",
          "name": "stdout",
          "text": [
            "Enter num: 5\n",
            "factorial of  5  = 120\n"
          ]
        }
      ],
      "source": [
        "num = int(input(\"Enter num: \"))\n",
        "\n",
        "def factorial(n):\n",
        "  if n == 0:\n",
        "    return 1\n",
        "  else:\n",
        "    return n* factorial(n-1)\n",
        "\n",
        "fact = factorial(num)\n",
        "print(\"factorial of \",num,\" =\",fact)"
      ],
      "execution_count": 2
    },
    {
      "cell_type": "markdown",
      "metadata": {
        "id": "yWBZdQzesVT9"
      },
      "source": [
        "## 2. Variables and Data Types\n",
        "\n",
        "**Question 6:** Create variables of different data types: integer, float, string, and boolean. Print their values and types."
      ]
    },
    {
      "cell_type": "code",
      "metadata": {
        "id": "v6RxstpLsVT-",
        "colab": {
          "base_uri": "https://localhost:8080/"
        },
        "outputId": "aac09dfc-c76d-41dd-f960-1d88759b8ebb"
      },
      "outputs": [
        {
          "output_type": "stream",
          "name": "stdout",
          "text": [
            "1 <class 'int'>\n",
            "2.5 <class 'float'>\n",
            "richa <class 'str'>\n",
            "True <class 'bool'>\n"
          ]
        }
      ],
      "source": [
        "a = 1\n",
        "b = 2.5\n",
        "str = \"richa\"\n",
        "boo = True\n",
        "\n",
        "print(a,type(a))\n",
        "print(b,type(b))\n",
        "print(str,type(str))\n",
        "print(boo,type(boo))"
      ],
      "execution_count": 4
    },
    {
      "cell_type": "markdown",
      "metadata": {
        "id": "K60wjJnGsVT_"
      },
      "source": [
        "**Question 7:** Write a Python program to swap the values of two variables."
      ]
    },
    {
      "cell_type": "code",
      "metadata": {
        "id": "XR_H63YrsVT_",
        "colab": {
          "base_uri": "https://localhost:8080/"
        },
        "outputId": "f7fc5ca8-d70d-4c54-8dda-f13e89b8ba4e"
      },
      "outputs": [
        {
          "output_type": "stream",
          "name": "stdout",
          "text": [
            "Enter var1: richa\n",
            "Enter var2: shubham\n",
            "Swaped values: swapped_var1 = shubham,swapped_var2 = richa\n"
          ]
        }
      ],
      "source": [
        "var1 = input(\"Enter var1: \")\n",
        "var2 = input(\"Enter var2: \")\n",
        "\n",
        "def swap(a,b):\n",
        "  a,b = b,a\n",
        "  return a,b\n",
        "\n",
        "a,b = swap(var1,var2)\n",
        "print(f\"Swaped values: swapped_var1 = {a},swapped_var2 = {b}\",)"
      ],
      "execution_count": 5
    },
    {
      "cell_type": "markdown",
      "metadata": {
        "id": "xDB5taRfsVUA"
      },
      "source": [
        "**Question 8:** Write a Python program to convert Celsius to Fahrenheit."
      ]
    },
    {
      "cell_type": "code",
      "metadata": {
        "id": "JGL0JEWTsVUB",
        "colab": {
          "base_uri": "https://localhost:8080/"
        },
        "outputId": "ea78f110-c654-4ffd-c632-5180ed70357a"
      },
      "outputs": [
        {
          "output_type": "stream",
          "name": "stdout",
          "text": [
            "Enter value of celsius: 5\n",
            "5.0 Celsius is equal to 41.0 Fahrenheit\n"
          ]
        }
      ],
      "source": [
        "c = float(input(\"Enter value of celsius: \"))\n",
        "\n",
        "def c_to_f(cel):\n",
        "  f = cel * (9/5) + 32\n",
        "  return f\n",
        "\n",
        "f = c_to_f(c)\n",
        "print(f\"{c} Celsius is equal to {f} Fahrenheit\")"
      ],
      "execution_count": 8
    },
    {
      "cell_type": "markdown",
      "metadata": {
        "id": "rerDoDMDsVUB"
      },
      "source": [
        "**Question 9:** Write a Python program to concatenate two strings."
      ]
    },
    {
      "cell_type": "code",
      "metadata": {
        "id": "EWTWZcC4sVUC",
        "colab": {
          "base_uri": "https://localhost:8080/"
        },
        "outputId": "a87a9ef1-71f5-4de6-cfcb-7decff9e2dcd"
      },
      "outputs": [
        {
          "output_type": "stream",
          "name": "stdout",
          "text": [
            "Enter str1: richa\n",
            "Enter str2: arora\n",
            "concatenated string is: richa arora\n"
          ]
        }
      ],
      "source": [
        "str1 = input(\"Enter str1: \")\n",
        "str2 = input(\"Enter str2: \")\n",
        "\n",
        "def concat(a,b):\n",
        "  return a + \" \" + b\n",
        "\n",
        "print(f\"concatenated string is: {concat(str1,str2)}\")"
      ],
      "execution_count": 1
    },
    {
      "cell_type": "markdown",
      "metadata": {
        "id": "_7wpS0ZAsVUC"
      },
      "source": [
        "**Question 10:** Write a Python program to check if a variable is of a specific data type."
      ]
    },
    {
      "cell_type": "code",
      "metadata": {
        "id": "vzv-iPwdsVUD",
        "colab": {
          "base_uri": "https://localhost:8080/"
        },
        "outputId": "0175856d-77bb-45a1-9529-5fb1103a5d27"
      },
      "outputs": [
        {
          "output_type": "stream",
          "name": "stdout",
          "text": [
            "5.5 is a float\n"
          ]
        }
      ],
      "source": [
        "# The isinstance() function returns True if the specified object is of the\n",
        "# specified type,otherwise False .\n",
        "var = 5.5\n",
        "if isinstance(var,float):\n",
        "  print(f\"{var} is a float\")\n",
        "else:\n",
        "  print(f\"{var} is not a float\")"
      ],
      "execution_count": 2
    },
    {
      "cell_type": "markdown",
      "metadata": {
        "id": "b9eh1Hd0sVUE"
      },
      "source": [
        "## 3. Basic Operators (Arithmetic, Comparison, Logical)\n",
        "\n",
        "**Question 11:** Write a Python program to perform arithmetic operations: addition, subtraction, multiplication, and division."
      ]
    },
    {
      "cell_type": "code",
      "metadata": {
        "id": "8u07fho5sVUF",
        "colab": {
          "base_uri": "https://localhost:8080/"
        },
        "outputId": "25b6e619-c1c4-49b0-890e-fca1b1145950"
      },
      "outputs": [
        {
          "output_type": "stream",
          "name": "stdout",
          "text": [
            "enter num1: 5\n",
            "enter num2: 7\n",
            "Addition: 5.0 + 7.0 = 12.0\n",
            "Subtraction: 5.0 - 7.0 = -2.0\n",
            "Multiplication: 5.0 * 7.0 = 35.0\n",
            "Division: 5.0 / 7.0 = 0.7142857142857143\n"
          ]
        }
      ],
      "source": [
        "a = float(input(\"enter num1: \"))\n",
        "b = float(input(\"enter num2: \"))\n",
        "\n",
        "print(f\"Addition: {a} + {b} = {a + b}\")\n",
        "print(f\"Subtraction: {a} - {b} = {a - b}\")\n",
        "print(f\"Multiplication: {a} * {b} = {a * b}\")\n",
        "print(f\"Division: {a} / {b} = {a / b}\")"
      ],
      "execution_count": 3
    },
    {
      "cell_type": "markdown",
      "metadata": {
        "id": "TraJquyjsVUF"
      },
      "source": [
        "**Question 12:** Write a Python program to demonstrate comparison operators: equal to, not equal to, greater than, less than."
      ]
    },
    {
      "cell_type": "code",
      "metadata": {
        "id": "RXOYy37usVUG",
        "colab": {
          "base_uri": "https://localhost:8080/"
        },
        "outputId": "aae7356c-2f5f-4238-a527-d6ab1039e11a"
      },
      "outputs": [
        {
          "output_type": "stream",
          "name": "stdout",
          "text": [
            "enter num1: 8\n",
            "enter num2: 10\n",
            "8.0 == 10.0 : False\n",
            "8.0 != 10.0 : True\n",
            "8.0 > 10.0 : False\n",
            "8.0 < 10.0 : True\n"
          ]
        }
      ],
      "source": [
        "a = float(input(\"enter num1: \"))\n",
        "b = float(input(\"enter num2: \"))\n",
        "\n",
        "print(f\"{a} == {b} : {a==b}\")\n",
        "print(f\"{a} != {b} : {a!=b}\")\n",
        "print(f\"{a} > {b} : {a > b}\")\n",
        "print(f\"{a} < {b} : {a < b}\")"
      ],
      "execution_count": 4
    },
    {
      "cell_type": "markdown",
      "metadata": {
        "id": "8uUEmByjsVUG"
      },
      "source": [
        "**Question 13:** Write a Python program to demonstrate logical operators: and, or, not."
      ]
    },
    {
      "cell_type": "code",
      "metadata": {
        "id": "6uKTgiNlsVUH",
        "colab": {
          "base_uri": "https://localhost:8080/"
        },
        "outputId": "3b542dea-3fbf-41e4-d08d-ce73fcb55322"
      },
      "outputs": [
        {
          "output_type": "stream",
          "name": "stdout",
          "text": [
            "enter first boolean variable (1 or 0): 1\n",
            "enter second boolean variable (1 or 0): 1\n",
            "True <class 'bool'>\n",
            "True and True : True\n",
            "True or True : True\n",
            "not True : False\n"
          ]
        }
      ],
      "source": [
        "a = bool(input(\"enter first boolean variable (1 or 0): \"))\n",
        "b = bool(input(\"enter second boolean variable (1 or 0): \"))\n",
        "print(a,type(a))\n",
        "\n",
        "print(f\"{a} and {b} : {a and b}\")\n",
        "print(f\"{a} or {b} : {a or b}\")\n",
        "print(f\"not {a} : {not a}\")"
      ],
      "execution_count": 6
    },
    {
      "cell_type": "markdown",
      "metadata": {
        "id": "KLsr_tkcsVUH"
      },
      "source": [
        "**Question 14:** Write a Python program to calculate the square of a number."
      ]
    },
    {
      "cell_type": "code",
      "metadata": {
        "id": "TybLBcr9sVUI",
        "colab": {
          "base_uri": "https://localhost:8080/"
        },
        "outputId": "47fa160f-41ea-4205-d821-d16bc037b95f"
      },
      "outputs": [
        {
          "output_type": "stream",
          "name": "stdout",
          "text": [
            "Enter the number to be squared: 5\n",
            "Square of num:  25\n"
          ]
        }
      ],
      "source": [
        "num  = int(input(\"Enter the number to be squared: \"))\n",
        "def square(n):\n",
        "  return n**2\n",
        "\n",
        "print(\"Square of num: \", square(num))"
      ],
      "execution_count": 8
    },
    {
      "cell_type": "markdown",
      "metadata": {
        "id": "gTOEhR1msVUJ"
      },
      "source": [
        "**Question 15:** Write a Python program to check if a number is even or odd."
      ]
    },
    {
      "cell_type": "code",
      "metadata": {
        "id": "sVr_JIpPsVUK",
        "colab": {
          "base_uri": "https://localhost:8080/"
        },
        "outputId": "a9344933-7dd2-413c-ed16-9a1609dc28b0"
      },
      "outputs": [
        {
          "output_type": "stream",
          "name": "stdout",
          "text": [
            "Enter number: 5\n",
            "Odd\n"
          ]
        }
      ],
      "source": [
        "num  = int(input(\"Enter number: \"))\n",
        "\n",
        "def even_or_odd(n):\n",
        "  if n == 0:\n",
        "    print(\"Zero\")\n",
        "  elif n % 2 == 0:\n",
        "    print(\"Even\")\n",
        "  else:\n",
        "    print(\"Odd\")\n",
        "\n",
        "even_or_odd(num)"
      ],
      "execution_count": 9
    },
    {
      "cell_type": "markdown",
      "metadata": {
        "id": "8_mebL3DsVUL"
      },
      "source": [
        "**Question 16:** Write a Python program to find the sum of the first n natural numbers."
      ]
    },
    {
      "cell_type": "code",
      "metadata": {
        "id": "oJINpX6HsVUO",
        "colab": {
          "base_uri": "https://localhost:8080/"
        },
        "outputId": "9f0555bb-a0ed-4669-acb0-b7dae4bdf9eb"
      },
      "outputs": [
        {
          "output_type": "stream",
          "name": "stdout",
          "text": [
            "Enter natural number: 5\n",
            "Sum of first 5 natural no: 15.0 \n"
          ]
        }
      ],
      "source": [
        "num  = int(input(\"Enter natural number: \"))\n",
        "\n",
        "def sum_first_n(n):\n",
        "  return (n*(n +1))/2\n",
        "\n",
        "print(f\"Sum of first {num} natural no: {sum_first_n(num)} \")"
      ],
      "execution_count": 14
    },
    {
      "cell_type": "markdown",
      "metadata": {
        "id": "UN8kpZQPsVUP"
      },
      "source": [
        "**Question 17:** Write a Python program to check if a year is a leap year."
      ]
    },
    {
      "cell_type": "code",
      "metadata": {
        "id": "vw-Kh-cxsVUQ",
        "colab": {
          "base_uri": "https://localhost:8080/"
        },
        "outputId": "c6c34c17-a273-411d-b053-7affdabb4ba0"
      },
      "outputs": [
        {
          "output_type": "stream",
          "name": "stdout",
          "text": [
            "Enter year: 1996\n",
            "1996  is a leap year.\n"
          ]
        }
      ],
      "source": [
        "y = int(input(\"Enter year: \"))\n",
        "\n",
        "if (y%4==0 and y%100 != 0) or (y%400 == 0):\n",
        "  print(y,\" is a leap year.\")\n",
        "else:\n",
        "  print(y,\" is not a leap year.\")"
      ],
      "execution_count": 15
    },
    {
      "cell_type": "markdown",
      "metadata": {
        "id": "0LFFecJ1sVUS"
      },
      "source": [
        "**Question 18:** Write a Python program to reverse a string."
      ]
    },
    {
      "cell_type": "code",
      "metadata": {
        "id": "60XQwcoksVUS",
        "colab": {
          "base_uri": "https://localhost:8080/"
        },
        "outputId": "cee175f7-d8ad-4988-cdf3-c32a3f823228"
      },
      "outputs": [
        {
          "output_type": "stream",
          "name": "stdout",
          "text": [
            "Enter the str to be reversed: richa\n",
            "reversed str = ahcir\n"
          ]
        }
      ],
      "source": [
        "str = input(\"Enter the str to be reversed: \")\n",
        "print(f\"reversed str = {str[::-1]}\")"
      ],
      "execution_count": 16
    },
    {
      "cell_type": "markdown",
      "metadata": {
        "id": "BbHQ12lgsVUU"
      },
      "source": [
        "**Question 19:** Write a Python program to check if a string is a palindrome."
      ]
    },
    {
      "cell_type": "code",
      "metadata": {
        "id": "lVmuS4C2sVUU",
        "colab": {
          "base_uri": "https://localhost:8080/"
        },
        "outputId": "d71ed023-507c-414e-f1d0-4b639798047a"
      },
      "outputs": [
        {
          "output_type": "stream",
          "name": "stdout",
          "text": [
            "Enter the string: arora\n",
            "arora is a palindrome\n"
          ]
        }
      ],
      "source": [
        "str = input(\"Enter the string: \")\n",
        "if str == str[::-1]:\n",
        "  print(f\"{str} is a palindrome\")\n",
        "else:\n",
        "  print(f\"{str} is not a palindrome\")"
      ],
      "execution_count": 18
    },
    {
      "cell_type": "markdown",
      "metadata": {
        "id": "rmmjMiKFsVUX"
      },
      "source": [
        "**Question 20:** Write a Python program to sort a list of numbers in ascending order."
      ]
    },
    {
      "cell_type": "code",
      "metadata": {
        "id": "3X2SZFhbsVUY",
        "colab": {
          "base_uri": "https://localhost:8080/"
        },
        "outputId": "6aa1bf8c-d1ef-4530-ec10-46d6b3928d86"
      },
      "outputs": [
        {
          "output_type": "stream",
          "name": "stdout",
          "text": [
            "Enter numbers seperated by comma:9,4,5,8,3,7,1,2\n",
            "Sorted list: [1, 2, 3, 4, 5, 7, 8, 9]\n"
          ]
        }
      ],
      "source": [
        "# The split() method splits a string into a list.\n",
        "# You can specify the separator, default separator is any whitespace.\n",
        "lst_of_numbers = [int(x) for x in input(\"Enter numbers seperated by comma:\").split(',')]\n",
        "lst_of_numbers.sort()\n",
        "print(f\"Sorted list: {lst_of_numbers}\")"
      ],
      "execution_count": 21
    },
    {
      "cell_type": "code",
      "source": [],
      "metadata": {
        "id": "nu8Gh1rc-O0t"
      },
      "execution_count": null,
      "outputs": []
    }
  ],
  "metadata": {
    "kernelspec": {
      "display_name": "Python 3",
      "language": "python",
      "name": "python3"
    },
    "language_info": {
      "codemirror_mode": {
        "name": "ipython",
        "version": 3
      },
      "file_extension": ".py",
      "mimetype": "text/x-python",
      "name": "python",
      "nbconvert_exporter": "python",
      "pygments_lexer": "ipython3",
      "version": "3.8.5"
    },
    "colab": {
      "provenance": []
    }
  },
  "nbformat": 4,
  "nbformat_minor": 0
}