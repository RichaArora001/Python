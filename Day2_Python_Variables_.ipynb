{
  "nbformat": 4,
  "nbformat_minor": 0,
  "metadata": {
    "colab": {
      "provenance": []
    },
    "kernelspec": {
      "name": "python3",
      "display_name": "Python 3"
    },
    "language_info": {
      "name": "python"
    }
  },
  "cells": [
    {
      "cell_type": "code",
      "execution_count": 1,
      "metadata": {
        "id": "T6BSbnqf7ale"
      },
      "outputs": [],
      "source": [
        "# Variables are fundamental elements in programming used to store data that can be\n",
        "# referenced and manipulated in a program. In Python, variables are created when\n",
        "# you assign a value to them, and they do not need explicit declaration to reserve\n",
        "#  memory space. The declaration happens automatically when you assign a value to\n",
        "#  a variable."
      ]
    },
    {
      "cell_type": "code",
      "source": [
        "a = 100"
      ],
      "metadata": {
        "id": "mB2X3iNIHXia"
      },
      "execution_count": 2,
      "outputs": []
    },
    {
      "cell_type": "code",
      "source": [
        "# Declaring and assigning Variables\n",
        "\n",
        "age = 25\n",
        "height = 5.2\n",
        "name = \"Richa\"\n",
        "is_student = True\n",
        "\n",
        "# printing the variables\n",
        "\n",
        "print(\"age:\",age)\n",
        "print(\"Height:\",height)\n",
        "print(\"name:\",name)\n",
        "print(\"is_student:\",is_student)\n",
        "\n"
      ],
      "metadata": {
        "colab": {
          "base_uri": "https://localhost:8080/"
        },
        "id": "7TrqmyEVHbsM",
        "outputId": "0f0d6a2d-7583-48e3-97df-d6435dc2870e"
      },
      "execution_count": 4,
      "outputs": [
        {
          "output_type": "stream",
          "name": "stdout",
          "text": [
            "age: 25\n",
            "Height: 5.2\n",
            "name: Richa\n",
            "is_student: True\n"
          ]
        }
      ]
    },
    {
      "cell_type": "code",
      "source": [
        "## Naming Conventions\n",
        "## Variable names should be descriptive\n",
        "## They must start with a letter or an '_' and contains letter,numbers\n",
        "#  and underscores\n",
        "## variables names case sensitive\n",
        "\n",
        "#valid variable names\n",
        "\n",
        "first_name = \"Richa\"\n",
        "last_name = \"Arora\"\n",
        "_first_name = \"Richa\""
      ],
      "metadata": {
        "id": "zXaHzz-IH8JW"
      },
      "execution_count": 9,
      "outputs": []
    },
    {
      "cell_type": "code",
      "source": [
        "# Invalid Variable Names\n",
        "2age = 30"
      ],
      "metadata": {
        "colab": {
          "base_uri": "https://localhost:8080/",
          "height": 106
        },
        "id": "OBxmNvNRIVOF",
        "outputId": "596b5f5b-7648-46b7-bff4-e24a732851b1"
      },
      "execution_count": 6,
      "outputs": [
        {
          "output_type": "error",
          "ename": "SyntaxError",
          "evalue": "invalid decimal literal (<ipython-input-6-150edb685a3a>, line 2)",
          "traceback": [
            "\u001b[0;36m  File \u001b[0;32m\"<ipython-input-6-150edb685a3a>\"\u001b[0;36m, line \u001b[0;32m2\u001b[0m\n\u001b[0;31m    2age = 30\u001b[0m\n\u001b[0m    ^\u001b[0m\n\u001b[0;31mSyntaxError\u001b[0m\u001b[0;31m:\u001b[0m invalid decimal literal\n"
          ]
        }
      ]
    },
    {
      "cell_type": "code",
      "source": [
        "first-name = \"Richa\""
      ],
      "metadata": {
        "colab": {
          "base_uri": "https://localhost:8080/",
          "height": 124
        },
        "id": "4qgJwJdhIg2t",
        "outputId": "e7e84db1-cc66-424e-d11a-95623c4f04d9"
      },
      "execution_count": 7,
      "outputs": [
        {
          "output_type": "error",
          "ename": "SyntaxError",
          "evalue": "cannot assign to expression here. Maybe you meant '==' instead of '='? (<ipython-input-7-047bf9579384>, line 1)",
          "traceback": [
            "\u001b[0;36m  File \u001b[0;32m\"<ipython-input-7-047bf9579384>\"\u001b[0;36m, line \u001b[0;32m1\u001b[0m\n\u001b[0;31m    first-name = \"Richa\"\u001b[0m\n\u001b[0m    ^\u001b[0m\n\u001b[0;31mSyntaxError\u001b[0m\u001b[0;31m:\u001b[0m cannot assign to expression here. Maybe you meant '==' instead of '='?\n"
          ]
        }
      ]
    },
    {
      "cell_type": "code",
      "source": [
        "@name = \"Richa\""
      ],
      "metadata": {
        "colab": {
          "base_uri": "https://localhost:8080/",
          "height": 106
        },
        "id": "Xxp-iOYsIkb_",
        "outputId": "7845efd1-298a-4d86-877e-653971ff2db3"
      },
      "execution_count": 8,
      "outputs": [
        {
          "output_type": "error",
          "ename": "SyntaxError",
          "evalue": "invalid syntax. Maybe you meant '==' or ':=' instead of '='? (<ipython-input-8-05efc8001336>, line 1)",
          "traceback": [
            "\u001b[0;36m  File \u001b[0;32m\"<ipython-input-8-05efc8001336>\"\u001b[0;36m, line \u001b[0;32m1\u001b[0m\n\u001b[0;31m    @name = \"Richa\"\u001b[0m\n\u001b[0m     ^\u001b[0m\n\u001b[0;31mSyntaxError\u001b[0m\u001b[0;31m:\u001b[0m invalid syntax. Maybe you meant '==' or ':=' instead of '='?\n"
          ]
        }
      ]
    },
    {
      "cell_type": "code",
      "source": [
        "# case sensitive\n",
        "name = \"Richa\"\n",
        "Name = \"richa\"\n",
        "print(name ==  Name)"
      ],
      "metadata": {
        "colab": {
          "base_uri": "https://localhost:8080/"
        },
        "id": "EdHN1m_ZIoOG",
        "outputId": "347c7d04-a816-4a95-e7d3-f8b0964fd152"
      },
      "execution_count": 10,
      "outputs": [
        {
          "output_type": "stream",
          "name": "stdout",
          "text": [
            "False\n"
          ]
        }
      ]
    },
    {
      "cell_type": "code",
      "source": [
        "surname = \"Arora\"\n",
        "Surname = \"Arora\"\n",
        "surname == Surname"
      ],
      "metadata": {
        "colab": {
          "base_uri": "https://localhost:8080/"
        },
        "id": "1udIKXLWLIt0",
        "outputId": "c23f2532-0e11-4594-cac7-20d35606ac7d"
      },
      "execution_count": 11,
      "outputs": [
        {
          "output_type": "execute_result",
          "data": {
            "text/plain": [
              "True"
            ]
          },
          "metadata": {},
          "execution_count": 11
        }
      ]
    },
    {
      "cell_type": "code",
      "source": [
        "## Understnading Variable types\n",
        "## Python is dynamically typed,type of a variable is determined at runtime\n",
        "age = 25\n",
        "height = 5.2\n",
        "name = \"Richa\"\n",
        "is_student = True\n",
        "\n",
        "print(type(age))\n",
        "print(type(height))\n",
        "print(type(name))\n",
        "print(type(is_student))"
      ],
      "metadata": {
        "colab": {
          "base_uri": "https://localhost:8080/"
        },
        "id": "DU48G_-lLY-J",
        "outputId": "d6b372f5-135f-46ac-dbe9-cc178e4d3c1e"
      },
      "execution_count": 12,
      "outputs": [
        {
          "output_type": "stream",
          "name": "stdout",
          "text": [
            "<class 'int'>\n",
            "<class 'float'>\n",
            "<class 'str'>\n",
            "<class 'bool'>\n"
          ]
        }
      ]
    },
    {
      "cell_type": "code",
      "source": [
        "# type checking and conversion\n",
        "age = 25\n",
        "print(type(age))\n",
        "\n",
        "# type conversion\n",
        "age_str = str(age)\n",
        "print(age_str)\n",
        "print(type(age_str))"
      ],
      "metadata": {
        "colab": {
          "base_uri": "https://localhost:8080/"
        },
        "id": "mK9AI6WfMYWr",
        "outputId": "019e48b0-bb1d-4273-d297-03133ca4b48f"
      },
      "execution_count": 13,
      "outputs": [
        {
          "output_type": "stream",
          "name": "stdout",
          "text": [
            "<class 'int'>\n",
            "25\n",
            "<class 'str'>\n"
          ]
        }
      ]
    },
    {
      "cell_type": "code",
      "source": [
        "age = \"25\"\n",
        "print(type(age))\n",
        "int(age)\n",
        "print(type(age))\n",
        "age = int(age)\n",
        "print(type(age))"
      ],
      "metadata": {
        "colab": {
          "base_uri": "https://localhost:8080/"
        },
        "id": "23EqoC_RNZ2-",
        "outputId": "042927df-0eb3-488f-eb55-b68e8e52ce65"
      },
      "execution_count": 15,
      "outputs": [
        {
          "output_type": "stream",
          "name": "stdout",
          "text": [
            "<class 'str'>\n",
            "<class 'str'>\n",
            "<class 'int'>\n"
          ]
        }
      ]
    },
    {
      "cell_type": "code",
      "source": [
        "age = \"25\"\n",
        "print(type(int(age)))"
      ],
      "metadata": {
        "colab": {
          "base_uri": "https://localhost:8080/"
        },
        "id": "U96hOMV2NnXR",
        "outputId": "fc21377b-16a4-4790-c0ea-5aa4416dc3e8"
      },
      "execution_count": 16,
      "outputs": [
        {
          "output_type": "stream",
          "name": "stdout",
          "text": [
            "<class 'int'>\n"
          ]
        }
      ]
    },
    {
      "cell_type": "code",
      "source": [
        "name = \"richa\"\n",
        "type(name)\n",
        "int(name)"
      ],
      "metadata": {
        "colab": {
          "base_uri": "https://localhost:8080/",
          "height": 176
        },
        "id": "aKa7VwVfN5d5",
        "outputId": "b811ce42-c825-4da5-e344-3633e7c51f37"
      },
      "execution_count": 17,
      "outputs": [
        {
          "output_type": "error",
          "ename": "ValueError",
          "evalue": "invalid literal for int() with base 10: 'richa'",
          "traceback": [
            "\u001b[0;31m---------------------------------------------------------------------------\u001b[0m",
            "\u001b[0;31mValueError\u001b[0m                                Traceback (most recent call last)",
            "\u001b[0;32m<ipython-input-17-d072e1876fca>\u001b[0m in \u001b[0;36m<cell line: 3>\u001b[0;34m()\u001b[0m\n\u001b[1;32m      1\u001b[0m \u001b[0mname\u001b[0m \u001b[0;34m=\u001b[0m \u001b[0;34m\"richa\"\u001b[0m\u001b[0;34m\u001b[0m\u001b[0;34m\u001b[0m\u001b[0m\n\u001b[1;32m      2\u001b[0m \u001b[0mtype\u001b[0m\u001b[0;34m(\u001b[0m\u001b[0mname\u001b[0m\u001b[0;34m)\u001b[0m\u001b[0;34m\u001b[0m\u001b[0;34m\u001b[0m\u001b[0m\n\u001b[0;32m----> 3\u001b[0;31m \u001b[0mint\u001b[0m\u001b[0;34m(\u001b[0m\u001b[0mname\u001b[0m\u001b[0;34m)\u001b[0m\u001b[0;34m\u001b[0m\u001b[0;34m\u001b[0m\u001b[0m\n\u001b[0m",
            "\u001b[0;31mValueError\u001b[0m: invalid literal for int() with base 10: 'richa'"
          ]
        }
      ]
    },
    {
      "cell_type": "code",
      "source": [
        "height = 5.2\n",
        "type(height)"
      ],
      "metadata": {
        "colab": {
          "base_uri": "https://localhost:8080/"
        },
        "id": "YpjhzPELb6P8",
        "outputId": "f7dbf074-47a5-40e1-eef5-72e2522aedab"
      },
      "execution_count": 18,
      "outputs": [
        {
          "output_type": "execute_result",
          "data": {
            "text/plain": [
              "float"
            ]
          },
          "metadata": {},
          "execution_count": 18
        }
      ]
    },
    {
      "cell_type": "code",
      "source": [
        "float(int(height))"
      ],
      "metadata": {
        "colab": {
          "base_uri": "https://localhost:8080/"
        },
        "id": "yiKvDHYrcNp1",
        "outputId": "7ba6b3fe-bc20-4c52-d409-573dfbf5961e"
      },
      "execution_count": 19,
      "outputs": [
        {
          "output_type": "execute_result",
          "data": {
            "text/plain": [
              "5.0"
            ]
          },
          "metadata": {},
          "execution_count": 19
        }
      ]
    },
    {
      "cell_type": "code",
      "source": [
        "## Dynamic Typing\n",
        "## Python allows the type of a variable to change as the program executes\n",
        "var = 10\n",
        "print(var,type(var))\n",
        "\n",
        "var = \"Hello\"\n",
        "print(var,type(var))\n",
        "\n",
        "var = 3.14\n",
        "print(var,type(var))"
      ],
      "metadata": {
        "colab": {
          "base_uri": "https://localhost:8080/"
        },
        "id": "f0GN0MKqcWrO",
        "outputId": "52d4579a-81ce-4a33-9e62-733c99802f77"
      },
      "execution_count": 20,
      "outputs": [
        {
          "output_type": "stream",
          "name": "stdout",
          "text": [
            "10 <class 'int'>\n",
            "Hello <class 'str'>\n",
            "3.14 <class 'float'>\n"
          ]
        }
      ]
    },
    {
      "cell_type": "code",
      "source": [
        "## INPUT\n",
        "age = input(\"what is age: \")\n",
        "print(age,type(age))"
      ],
      "metadata": {
        "colab": {
          "base_uri": "https://localhost:8080/"
        },
        "id": "2m9kYQQRdP6O",
        "outputId": "04f999ec-09ac-4deb-ac58-deccace44394"
      },
      "execution_count": 23,
      "outputs": [
        {
          "output_type": "stream",
          "name": "stdout",
          "text": [
            "what is age: 25\n",
            "25 <class 'str'>\n"
          ]
        }
      ]
    },
    {
      "cell_type": "code",
      "source": [
        "age = int(input(\"what is age: \"))\n",
        "print(age,type(age))\n"
      ],
      "metadata": {
        "colab": {
          "base_uri": "https://localhost:8080/"
        },
        "id": "PP93o16DdfHr",
        "outputId": "a21e48df-8408-4934-9c41-6854ec3717f9"
      },
      "execution_count": 25,
      "outputs": [
        {
          "output_type": "stream",
          "name": "stdout",
          "text": [
            "what is age: 25\n",
            "25 <class 'int'>\n"
          ]
        }
      ]
    },
    {
      "cell_type": "code",
      "source": [
        "### Simple Calculator\n",
        "num1 = float(input(\"Enter first number: \"))\n",
        "num2 = float(input(\"Enter second number: \"))\n",
        "\n",
        "sum = num1 +num2\n",
        "diff = num1 - num2\n",
        "mult = num1 * num2\n",
        "div = num1 / num2\n",
        "\n",
        "print(\"sum: \",sum)\n",
        "print(\"diff: \",diff)\n",
        "print(\"mult: \",mult)\n",
        "print(\"div: \",div)"
      ],
      "metadata": {
        "colab": {
          "base_uri": "https://localhost:8080/"
        },
        "id": "0w5bcYOhdpiM",
        "outputId": "973be7ef-fc81-4d87-bbd5-453835fcce3a"
      },
      "execution_count": 26,
      "outputs": [
        {
          "output_type": "stream",
          "name": "stdout",
          "text": [
            "Enter first number: 10\n",
            "Enter second number: 2\n",
            "sum:  12.0\n",
            "diff:  8.0\n",
            "mult:  20.0\n",
            "div:  5.0\n"
          ]
        }
      ]
    },
    {
      "cell_type": "code",
      "source": [
        "# Variables are essential in Python programming for storing and manipulating data.\n",
        "# Understanding how to declare, assign, and use variables effectively is crucial\n",
        "# for writing functional and efficient code. Following proper naming conventions\n",
        "# and understanding variable types will help in maintaining readability and\n",
        "# consistency in your code."
      ],
      "metadata": {
        "id": "ykNePMPxfUUX"
      },
      "execution_count": 27,
      "outputs": []
    },
    {
      "cell_type": "code",
      "source": [],
      "metadata": {
        "id": "O-272UtRhney"
      },
      "execution_count": null,
      "outputs": []
    }
  ]
}