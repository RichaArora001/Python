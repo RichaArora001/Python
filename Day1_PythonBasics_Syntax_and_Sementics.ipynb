{
  "nbformat": 4,
  "nbformat_minor": 0,
  "metadata": {
    "colab": {
      "provenance": []
    },
    "kernelspec": {
      "name": "python3",
      "display_name": "Python 3"
    },
    "language_info": {
      "name": "python"
    }
  },
  "cells": [
    {
      "cell_type": "code",
      "execution_count": 1,
      "metadata": {
        "id": "wSEYfZZx2MdF"
      },
      "outputs": [],
      "source": [
        "## Syntax and Sementics in Python"
      ]
    },
    {
      "cell_type": "code",
      "source": [
        "# Single line comment and multi line comment\n",
        "\"\"\" Hello World\n",
        "This is richa Arora\n",
        "Welcome to my world\n",
        "\"\"\""
      ],
      "metadata": {
        "colab": {
          "base_uri": "https://localhost:8080/",
          "height": 36
        },
        "id": "RRGqP-q83fd4",
        "outputId": "1f2cc2d5-34bd-4614-bdf7-ab832392a86d"
      },
      "execution_count": 2,
      "outputs": [
        {
          "output_type": "execute_result",
          "data": {
            "text/plain": [
              "' Hello World\\nThis is richa Arora\\nWelcome to my world\\n'"
            ],
            "application/vnd.google.colaboratory.intrinsic+json": {
              "type": "string"
            }
          },
          "metadata": {},
          "execution_count": 2
        }
      ]
    },
    {
      "cell_type": "code",
      "source": [
        "'''hello world\n",
        "this is my first code.'''"
      ],
      "metadata": {
        "colab": {
          "base_uri": "https://localhost:8080/",
          "height": 36
        },
        "id": "ROHdhbtB34MV",
        "outputId": "05450307-4900-4e02-80cc-06f6a53aa388"
      },
      "execution_count": 3,
      "outputs": [
        {
          "output_type": "execute_result",
          "data": {
            "text/plain": [
              "'hello world\\nthis is my first code.'"
            ],
            "application/vnd.google.colaboratory.intrinsic+json": {
              "type": "string"
            }
          },
          "metadata": {},
          "execution_count": 3
        }
      ]
    },
    {
      "cell_type": "code",
      "source": [
        "\"\"\"this is my world\\nbciawwi\n",
        "i am richa arora\"\"\""
      ],
      "metadata": {
        "colab": {
          "base_uri": "https://localhost:8080/",
          "height": 36
        },
        "id": "x0iWTg5-4BGa",
        "outputId": "6cbf4c2d-84cc-4455-a8e0-23a410565959"
      },
      "execution_count": 5,
      "outputs": [
        {
          "output_type": "execute_result",
          "data": {
            "text/plain": [
              "'this is my world\\nbciawwi\\ni am richa arora'"
            ],
            "application/vnd.google.colaboratory.intrinsic+json": {
              "type": "string"
            }
          },
          "metadata": {},
          "execution_count": 5
        }
      ]
    },
    {
      "cell_type": "code",
      "source": [
        "# # Syntax is about the correct arrangement of words and symbols in a code.\n",
        "## Semantics refers to the meaning or the interpretation of the symbols, characters,\n",
        "# and commands in a language.\n",
        "# It is about what the code is supposed to do when it runs."
      ],
      "metadata": {
        "id": "DRkvu-b44O9y"
      },
      "execution_count": 6,
      "outputs": []
    },
    {
      "cell_type": "code",
      "source": [
        "# Python is case sensitive\n",
        "name = \"Richa\"\n",
        "\n",
        "Name = \"richa\"\n",
        "print(name)\n",
        "print(Name)"
      ],
      "metadata": {
        "colab": {
          "base_uri": "https://localhost:8080/"
        },
        "id": "wUHIumqT5XBy",
        "outputId": "9f3abdec-a0c5-49c7-8a38-38f51efafc37"
      },
      "execution_count": 7,
      "outputs": [
        {
          "output_type": "stream",
          "name": "stdout",
          "text": [
            "Richa\n",
            "richa\n"
          ]
        }
      ]
    },
    {
      "cell_type": "code",
      "source": [
        "# Indentation in Python is used to define the structure and hierarchy of the code.\n",
        "# Unlike many other programming languages that use braces {} to delimit blocks of code,\n",
        "# Python uses indentation to determine the grouping of statements.\n",
        "# This means that all the statements within a block must be indented at the same level."
      ],
      "metadata": {
        "id": "v87SMgry5p01"
      },
      "execution_count": 8,
      "outputs": []
    },
    {
      "cell_type": "code",
      "source": [
        "## Indentation\n",
        "## Python uses indentation to define blocks of code.\n",
        "# Consistent use of spaces (commonly 4) or a tab is required.\n",
        "age = 25\n",
        "if age > 20:\n",
        "  print(age)\n",
        "print(age)"
      ],
      "metadata": {
        "colab": {
          "base_uri": "https://localhost:8080/"
        },
        "id": "GFw06R3N6uwI",
        "outputId": "2026c47c-0ffb-4eae-b092-98893890e075"
      },
      "execution_count": 9,
      "outputs": [
        {
          "output_type": "stream",
          "name": "stdout",
          "text": [
            "25\n",
            "25\n"
          ]
        }
      ]
    },
    {
      "cell_type": "code",
      "source": [
        "# this is single line comment\n",
        "print('hello world')"
      ],
      "metadata": {
        "colab": {
          "base_uri": "https://localhost:8080/"
        },
        "id": "ypr3jtiM7xpl",
        "outputId": "be09373a-4ba0-4a7a-97bc-3d3a33c4a0e7"
      },
      "execution_count": 10,
      "outputs": [
        {
          "output_type": "stream",
          "name": "stdout",
          "text": [
            "hello world\n"
          ]
        }
      ]
    },
    {
      "cell_type": "code",
      "source": [
        "# line continuation\n",
        "# use a backslash (\\) to continue a statement to the next line\n",
        "total = 1+2+3+\\\n",
        "4+5+6\n",
        "print(total)"
      ],
      "metadata": {
        "colab": {
          "base_uri": "https://localhost:8080/"
        },
        "id": "mLl03yEo74Y7",
        "outputId": "69c8e634-6314-4b2c-ba8c-608b19f414a7"
      },
      "execution_count": 11,
      "outputs": [
        {
          "output_type": "stream",
          "name": "stdout",
          "text": [
            "21\n"
          ]
        }
      ]
    },
    {
      "cell_type": "code",
      "source": [
        "## Multiple statements on a single line\n",
        "x = 5 ; y = 10 ; z = x+y\n",
        "print(x)\n",
        "print(y)\n",
        "print(z)"
      ],
      "metadata": {
        "colab": {
          "base_uri": "https://localhost:8080/"
        },
        "id": "x2llzqZ78YmQ",
        "outputId": "d398400b-d1cb-47ef-ab12-034b6cb64d83"
      },
      "execution_count": 12,
      "outputs": [
        {
          "output_type": "stream",
          "name": "stdout",
          "text": [
            "5\n",
            "10\n",
            "15\n"
          ]
        }
      ]
    },
    {
      "cell_type": "code",
      "source": [
        "age = 25\n",
        "name = \"richa\"\n",
        "print(type(age))\n",
        "print(type(name))"
      ],
      "metadata": {
        "colab": {
          "base_uri": "https://localhost:8080/"
        },
        "id": "6Ob945Kx9Tk1",
        "outputId": "4f77ece5-40b1-4c2c-af90-ca42a050c208"
      },
      "execution_count": 15,
      "outputs": [
        {
          "output_type": "stream",
          "name": "stdout",
          "text": [
            "<class 'int'>\n",
            "<class 'str'>\n"
          ]
        }
      ]
    },
    {
      "cell_type": "code",
      "source": [
        "age = 25\n",
        "if age > 20:\n",
        "  print(age)"
      ],
      "metadata": {
        "colab": {
          "base_uri": "https://localhost:8080/"
        },
        "id": "xl3twBQ99j2s",
        "outputId": "9e25b570-79b2-46c4-c06e-7d55bf666513"
      },
      "execution_count": 16,
      "outputs": [
        {
          "output_type": "stream",
          "name": "stdout",
          "text": [
            "25\n"
          ]
        }
      ]
    },
    {
      "cell_type": "code",
      "source": [
        "var = 10\n",
        "print(type(var))\n",
        "var = \"richa\"\n",
        "print(type(var))"
      ],
      "metadata": {
        "colab": {
          "base_uri": "https://localhost:8080/"
        },
        "id": "ldrfHpNq-S2C",
        "outputId": "ae0f7f15-b5d8-4b40-ff93-08fe370bdc45"
      },
      "execution_count": 17,
      "outputs": [
        {
          "output_type": "stream",
          "name": "stdout",
          "text": [
            "<class 'int'>\n",
            "<class 'str'>\n"
          ]
        }
      ]
    },
    {
      "cell_type": "code",
      "source": [
        "## name Error\n",
        "a = b"
      ],
      "metadata": {
        "colab": {
          "base_uri": "https://localhost:8080/",
          "height": 158
        },
        "id": "XgJHfBN2-dI5",
        "outputId": "68db638c-46ab-4724-8918-9052fe9cc7e4"
      },
      "execution_count": 18,
      "outputs": [
        {
          "output_type": "error",
          "ename": "NameError",
          "evalue": "name 'b' is not defined",
          "traceback": [
            "\u001b[0;31m---------------------------------------------------------------------------\u001b[0m",
            "\u001b[0;31mNameError\u001b[0m                                 Traceback (most recent call last)",
            "\u001b[0;32m<ipython-input-18-3a0884c8adb3>\u001b[0m in \u001b[0;36m<cell line: 2>\u001b[0;34m()\u001b[0m\n\u001b[1;32m      1\u001b[0m \u001b[0;31m## name Error\u001b[0m\u001b[0;34m\u001b[0m\u001b[0;34m\u001b[0m\u001b[0m\n\u001b[0;32m----> 2\u001b[0;31m \u001b[0ma\u001b[0m \u001b[0;34m=\u001b[0m \u001b[0mb\u001b[0m\u001b[0;34m\u001b[0m\u001b[0;34m\u001b[0m\u001b[0m\n\u001b[0m",
            "\u001b[0;31mNameError\u001b[0m: name 'b' is not defined"
          ]
        }
      ]
    },
    {
      "cell_type": "code",
      "source": [
        "# eg of indentation\n",
        "if True:\n",
        "  print(\"a\")\n",
        "  if False:\n",
        "    print(\"b\")\n",
        "  print(\"c\")\n",
        "print(\"d\")"
      ],
      "metadata": {
        "colab": {
          "base_uri": "https://localhost:8080/"
        },
        "id": "ZgUnf4rjAA-H",
        "outputId": "85f8afd6-57cf-4fcc-f9cc-38cf48d39e40"
      },
      "execution_count": 19,
      "outputs": [
        {
          "output_type": "stream",
          "name": "stdout",
          "text": [
            "a\n",
            "c\n",
            "d\n"
          ]
        }
      ]
    },
    {
      "cell_type": "code",
      "source": [
        "# Understanding the syntax and semantics of Python is crucial\n",
        "# for writing correct and meaningful programs.\n",
        "# Syntax ensures the code is properly structured,\n",
        "# while semantics ensures the code behaves as expected.\n",
        "# Mastering these concepts will help in writing efficient and\n",
        "# error-free Python code."
      ],
      "metadata": {
        "id": "T0BQuSL_AXCT"
      },
      "execution_count": null,
      "outputs": []
    }
  ]
}