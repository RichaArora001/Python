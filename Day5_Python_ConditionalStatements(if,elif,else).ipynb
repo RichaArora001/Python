{
  "nbformat": 4,
  "nbformat_minor": 0,
  "metadata": {
    "colab": {
      "provenance": []
    },
    "kernelspec": {
      "name": "python3",
      "display_name": "Python 3"
    },
    "language_info": {
      "name": "python"
    }
  },
  "cells": [
    {
      "cell_type": "markdown",
      "source": [
        "Conditional Statements(if,elif,else)"
      ],
      "metadata": {
        "id": "-75vWnxkt5o6"
      }
    },
    {
      "cell_type": "code",
      "source": [
        "## if statement\n",
        "age = 20\n",
        "\n",
        "if age >= 18:\n",
        "  print(\"You are allowed to vote in the elections.\")"
      ],
      "metadata": {
        "colab": {
          "base_uri": "https://localhost:8080/"
        },
        "id": "hpJGonott7my",
        "outputId": "4ddb7582-6dfb-47ff-cb63-340e47c7df8a"
      },
      "execution_count": null,
      "outputs": [
        {
          "output_type": "stream",
          "name": "stdout",
          "text": [
            "You are allowed to vote in the elections.\n"
          ]
        }
      ]
    },
    {
      "cell_type": "code",
      "source": [
        "age >= 18"
      ],
      "metadata": {
        "colab": {
          "base_uri": "https://localhost:8080/"
        },
        "id": "8jeGJbMEuHxW",
        "outputId": "74f7286e-0191-4a33-a874-61cc01383af6"
      },
      "execution_count": null,
      "outputs": [
        {
          "output_type": "execute_result",
          "data": {
            "text/plain": [
              "True"
            ]
          },
          "metadata": {},
          "execution_count": 3
        }
      ]
    },
    {
      "cell_type": "code",
      "source": [
        "## else\n",
        "## The else statement executes\n",
        "## a block of code if the condition in the if statement is False.\n",
        "\n",
        "age = 16\n",
        "\n",
        "if age >= 18:\n",
        "  print(\"You are eligible for voting\")\n",
        "else:\n",
        "  print(\"You are a minor\")"
      ],
      "metadata": {
        "colab": {
          "base_uri": "https://localhost:8080/"
        },
        "id": "ZGO40_IwuMaA",
        "outputId": "2cb8e722-b679-4537-bf7e-88793dd7ac83"
      },
      "execution_count": null,
      "outputs": [
        {
          "output_type": "stream",
          "name": "stdout",
          "text": [
            "You are a minor\n"
          ]
        }
      ]
    },
    {
      "cell_type": "code",
      "source": [
        "## elif\n",
        "## The elif statement allows\n",
        "## you to check multiple conditions. It stands for \"else if\"\n",
        "\n",
        "age = 17\n",
        "\n",
        "if age < 13:\n",
        "  print(\"You are a child\")\n",
        "elif age < 18:\n",
        "  print(\"You are a teenager\")\n",
        "else:\n",
        "  print(\"You are an adult\")"
      ],
      "metadata": {
        "colab": {
          "base_uri": "https://localhost:8080/"
        },
        "id": "K2SbeECWvF9U",
        "outputId": "c210c47d-6e28-4b85-828b-39134346be82"
      },
      "execution_count": null,
      "outputs": [
        {
          "output_type": "stream",
          "name": "stdout",
          "text": [
            "You are a teenager\n"
          ]
        }
      ]
    },
    {
      "cell_type": "code",
      "source": [
        "## Nested Condiitonal Statements\n",
        "\n",
        "## You can place one or more if, elif, or else statements inside another\n",
        "## if, elif, or else statement to create nested conditional statements.\n",
        "\n",
        "## number even ,odd,negative\n",
        "\n",
        "num = int(input(\"Enter the number: \"))\n",
        "if num > 0:\n",
        "  print(\"The number is positive.\")\n",
        "  if num % 2 == 0:\n",
        "    print(\"The number is even.\")\n",
        "  else:\n",
        "    print(\"The number is odd.\")\n",
        "else:\n",
        "  print(\"The number is zero or negative.\")"
      ],
      "metadata": {
        "colab": {
          "base_uri": "https://localhost:8080/"
        },
        "id": "IAIKcdd8voyv",
        "outputId": "b7bc7a94-93d9-4001-d8fb-8f321968867b"
      },
      "execution_count": null,
      "outputs": [
        {
          "output_type": "stream",
          "name": "stdout",
          "text": [
            "Enter the number: 9\n",
            "The number is positive.\n",
            "The number is odd.\n"
          ]
        }
      ]
    },
    {
      "cell_type": "code",
      "source": [
        "## Determine if a year is a leap year using nested condition statement\n",
        "\n",
        "year = int(input(\"enter the year: \"))\n",
        "\n",
        "if year % 4 == 0:\n",
        "  if year % 100 == 0:\n",
        "    if year % 400 == 0:\n",
        "      print(year,\" is a leap year. \")\n",
        "  else:\n",
        "    print(year, \" is leap year.\")\n",
        "else:\n",
        "  print(year,\" is not odd.\")"
      ],
      "metadata": {
        "colab": {
          "base_uri": "https://localhost:8080/"
        },
        "id": "M2aiWlGPxJuV",
        "outputId": "b4ccf8d3-4c22-4723-b051-2584670dccf4"
      },
      "execution_count": null,
      "outputs": [
        {
          "output_type": "stream",
          "name": "stdout",
          "text": [
            "enter the year: 1996\n",
            "1996  is leap year.\n"
          ]
        }
      ]
    },
    {
      "cell_type": "code",
      "source": [
        "## Simple Calculator\n",
        "num1 = float(input(\"Enter num1: \"))\n",
        "num2 = float(input(\"Enter num2: \"))\n",
        "operation = input(\"Enter operation (+,-,*,/): \")\n",
        "\n",
        "if operation == '+':\n",
        "  result = num1 + num2\n",
        "elif operation == '-':\n",
        "  result = num1 - num2\n",
        "elif operation == '*':\n",
        "  result = num1 * num2\n",
        "elif operation == '/':\n",
        "  if num2 != 0:\n",
        "    result = num1 / num2\n",
        "  else:\n",
        "    result = \"Error! division by zero.\"\n",
        "else:\n",
        "  result = \"Invalid operation\"\n",
        "\n",
        "print(\"Result: \",result)"
      ],
      "metadata": {
        "colab": {
          "base_uri": "https://localhost:8080/"
        },
        "id": "XUU3iPIgy8HM",
        "outputId": "72ce5694-ea0b-45a5-b5ed-1c5bede365a7"
      },
      "execution_count": null,
      "outputs": [
        {
          "output_type": "stream",
          "name": "stdout",
          "text": [
            "Enter num1: 15\n",
            "Enter num2: 5\n",
            "Enter operation (+,-,*,/): /\n",
            "Result:  3.0\n"
          ]
        }
      ]
    },
    {
      "cell_type": "code",
      "source": [
        "### Determine the ticket price based on age and whether the person is a student.\n",
        "# Ticket pricing based on age and student status\n",
        "\n",
        "age = int(input(\"Enter your age: \"))\n",
        "is_student = input(\"Are you a student.(yes/no): \").lower()\n",
        "\n",
        "if age < 5:\n",
        "  price = \"Free\"\n",
        "elif age < 12:\n",
        "  price = \"$10\"\n",
        "elif age <= 17:\n",
        "  if is_student == 'yes':\n",
        "    price = '$12'\n",
        "  else:\n",
        "    price = '$15'\n",
        "elif age <= 64:\n",
        "  if is_student == 'yes':\n",
        "    price = '$18'\n",
        "  else:\n",
        "    price = '$25'\n",
        "else:\n",
        "  price = '$20'\n",
        "\n",
        "print(\"Ticket_Price: \", price)"
      ],
      "metadata": {
        "id": "LDFzHgTh1NAF",
        "colab": {
          "base_uri": "https://localhost:8080/"
        },
        "outputId": "e2000456-788c-40d9-8ab3-1b235fbdb1c5"
      },
      "execution_count": 3,
      "outputs": [
        {
          "output_type": "stream",
          "name": "stdout",
          "text": [
            "Enter your age: 25\n",
            "Are you a student.(yes/no): yes\n",
            "Ticket_Price:  $18\n"
          ]
        }
      ]
    },
    {
      "cell_type": "code",
      "source": [
        "from re import I\n",
        "# Employee Bonus Calculation\n",
        "# Calculate an employee's bonus based on their\n",
        "# performance rating and years of service.\n",
        "\n",
        "#################'{:,.2%}'.format(0.214) yields 21.40%\n",
        "\n",
        "yr_in_ser = float(input(\"Enter years of service: \"))\n",
        "perf_r = float(input(\"Enter performance rating (1.0 to 5.0): \"))\n",
        "\n",
        "if perf_r >= 4.5:\n",
        "  if yr_in_ser > 10:\n",
        "    b_perc = 20\n",
        "  elif yr_in_ser > 5:\n",
        "    b_perc = 15\n",
        "  else:\n",
        "    b_perc = 10\n",
        "elif perf_r >= 3.5:\n",
        "  if yr_in_ser > 10:\n",
        "    b_perc = 10\n",
        "  elif yr_in_ser > 5:\n",
        "    b_perc = 10\n",
        "  else:\n",
        "    b_perc = 5\n",
        "else:\n",
        "  b_perc = 0\n",
        "\n",
        "sal = float(input(\"Enter current salary: \"))\n",
        "b_amt = sal * b_perc / 100\n",
        "\n",
        "print(\"Bonus amount: ${:.2f}\".format(b_amt))"
      ],
      "metadata": {
        "colab": {
          "base_uri": "https://localhost:8080/"
        },
        "id": "VQgPZl5Q5olx",
        "outputId": "14799739-b3e5-494d-c45f-52c83846d5aa"
      },
      "execution_count": 4,
      "outputs": [
        {
          "output_type": "stream",
          "name": "stdout",
          "text": [
            "Enter years of service: 6.6\n",
            "Enter performance rating (1.0 to 5.0): 5\n",
            "Enter current salary: 80000\n",
            "Bonus amount: $12000.00\n"
          ]
        }
      ]
    },
    {
      "cell_type": "code",
      "source": [
        "# User Login System\n",
        "# A simple user login system that checks the username and password.\n",
        "\n",
        "stored_username = \"admin\"\n",
        "stored_password = \"password123\"\n",
        "\n",
        "username = input(\"Enter username: \")\n",
        "password = input(\"Enter password: \")\n",
        "\n",
        "if username == stored_username:\n",
        "  if password == stored_password:\n",
        "    print(\"Login Successful!\")\n",
        "  else:\n",
        "    print(\"Incorrect Password.\")\n",
        "else:\n",
        "  print(\"Username not found.\")"
      ],
      "metadata": {
        "colab": {
          "base_uri": "https://localhost:8080/"
        },
        "id": "zqXFU2Vk_PRC",
        "outputId": "b5d4227f-111d-4ae1-ba72-41b2ca85175b"
      },
      "execution_count": 5,
      "outputs": [
        {
          "output_type": "stream",
          "name": "stdout",
          "text": [
            "Enter username: admin\n",
            "Enter password: richa\n",
            "Incorrect Password.\n"
          ]
        }
      ]
    },
    {
      "cell_type": "code",
      "source": [],
      "metadata": {
        "id": "az_4doBsA1su"
      },
      "execution_count": null,
      "outputs": []
    }
  ]
}