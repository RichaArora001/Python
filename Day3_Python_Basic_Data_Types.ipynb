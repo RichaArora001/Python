{
  "nbformat": 4,
  "nbformat_minor": 0,
  "metadata": {
    "colab": {
      "provenance": []
    },
    "kernelspec": {
      "name": "python3",
      "display_name": "Python 3"
    },
    "language_info": {
      "name": "python"
    }
  },
  "cells": [
    {
      "cell_type": "markdown",
      "metadata": {
        "id": "SeaIl1Ro1WKa"
      },
      "source": [
        "## DataTypes\n",
        "#### 1. Definition:\n",
        "\n",
        "- Data types are a classification of data which tell the compiler or interpreter how the programmer intends to use the data.\n",
        "- They determine the type of operations that can be performed on the data, the values that the data can take, and the amount of memory needed to store the data.\n",
        "\n",
        "#### 2. Importance of Data Types in Programming\n",
        "Explanation:\n",
        "\n",
        "- Data types ensure that data is stored in an efficient way.\n",
        "- They help in performing correct operations on data.\n",
        "- Proper use of data types can prevent errors and bugs in the program."
      ]
    },
    {
      "cell_type": "markdown",
      "source": [
        "Basic Data Types:\n",
        "Integers,\n",
        "Floating-point numbers,\n",
        "Strings,\n",
        "Booleans\n",
        "\n",
        "Advanced Data Types:\n",
        "Lists,\n",
        "Tuples,\n",
        "Sets,\n",
        "Dictionaries"
      ],
      "metadata": {
        "id": "UhG-uxWl3Fn1"
      }
    },
    {
      "cell_type": "code",
      "source": [
        "## Integer Example\n",
        "age = 25\n",
        "type(age)"
      ],
      "metadata": {
        "colab": {
          "base_uri": "https://localhost:8080/"
        },
        "id": "lbYXNCY52zEJ",
        "outputId": "ba161d1d-1b13-4aec-fba1-62cf653ba277"
      },
      "execution_count": 1,
      "outputs": [
        {
          "output_type": "execute_result",
          "data": {
            "text/plain": [
              "int"
            ]
          },
          "metadata": {},
          "execution_count": 1
        }
      ]
    },
    {
      "cell_type": "code",
      "source": [
        "## Floating point data type\n",
        "height = 5.25\n",
        "print(height)\n",
        "type(height)"
      ],
      "metadata": {
        "colab": {
          "base_uri": "https://localhost:8080/"
        },
        "id": "51oLuOKD3kcv",
        "outputId": "269ba894-4894-45bb-c691-dd016cd3b6cb"
      },
      "execution_count": 2,
      "outputs": [
        {
          "output_type": "stream",
          "name": "stdout",
          "text": [
            "5.25\n"
          ]
        },
        {
          "output_type": "execute_result",
          "data": {
            "text/plain": [
              "float"
            ]
          },
          "metadata": {},
          "execution_count": 2
        }
      ]
    },
    {
      "cell_type": "code",
      "source": [
        "## String data type examples\n",
        "name = \"richa\"\n",
        "print(name,\"it's type\",type(name))"
      ],
      "metadata": {
        "colab": {
          "base_uri": "https://localhost:8080/"
        },
        "id": "kOM5GXJS3w7b",
        "outputId": "8290131f-6432-43c0-c807-a0ad83c93ee4"
      },
      "execution_count": 4,
      "outputs": [
        {
          "output_type": "stream",
          "name": "stdout",
          "text": [
            "richa it's type <class 'str'>\n"
          ]
        }
      ]
    },
    {
      "cell_type": "code",
      "source": [
        "## Boolean Data Type\n",
        "is_type = True\n",
        "type(is_type)"
      ],
      "metadata": {
        "colab": {
          "base_uri": "https://localhost:8080/"
        },
        "id": "K4M0EWJZ4A9o",
        "outputId": "937e9eef-dd97-4937-95b6-b3f01aa54413"
      },
      "execution_count": 5,
      "outputs": [
        {
          "output_type": "execute_result",
          "data": {
            "text/plain": [
              "bool"
            ]
          },
          "metadata": {},
          "execution_count": 5
        }
      ]
    },
    {
      "cell_type": "code",
      "source": [
        "bool()  # bool variable has by default false value"
      ],
      "metadata": {
        "colab": {
          "base_uri": "https://localhost:8080/"
        },
        "id": "tRKamxqY4R6v",
        "outputId": "6819d600-de5e-44ba-f434-e0ee9a106f0d"
      },
      "execution_count": 6,
      "outputs": [
        {
          "output_type": "execute_result",
          "data": {
            "text/plain": [
              "False"
            ]
          },
          "metadata": {},
          "execution_count": 6
        }
      ]
    },
    {
      "cell_type": "code",
      "source": [
        "a = 10\n",
        "b = 10\n",
        "type(a == b)"
      ],
      "metadata": {
        "colab": {
          "base_uri": "https://localhost:8080/"
        },
        "id": "HpNOG1Jz4VLY",
        "outputId": "f7dad664-cd08-437d-bc6f-878fc8c28e1f"
      },
      "execution_count": 7,
      "outputs": [
        {
          "output_type": "execute_result",
          "data": {
            "text/plain": [
              "bool"
            ]
          },
          "metadata": {},
          "execution_count": 7
        }
      ]
    },
    {
      "cell_type": "code",
      "source": [
        "## Common Errors\n",
        "result = \"HEllo\" + 5"
      ],
      "metadata": {
        "colab": {
          "base_uri": "https://localhost:8080/",
          "height": 158
        },
        "id": "nTyTA6cS4l0I",
        "outputId": "b9b16565-f7d2-4a18-cd6d-b3fe93144cc4"
      },
      "execution_count": 8,
      "outputs": [
        {
          "output_type": "error",
          "ename": "TypeError",
          "evalue": "can only concatenate str (not \"int\") to str",
          "traceback": [
            "\u001b[0;31m---------------------------------------------------------------------------\u001b[0m",
            "\u001b[0;31mTypeError\u001b[0m                                 Traceback (most recent call last)",
            "\u001b[0;32m<ipython-input-8-87142116cb80>\u001b[0m in \u001b[0;36m<cell line: 2>\u001b[0;34m()\u001b[0m\n\u001b[1;32m      1\u001b[0m \u001b[0;31m## Common Errors\u001b[0m\u001b[0;34m\u001b[0m\u001b[0;34m\u001b[0m\u001b[0m\n\u001b[0;32m----> 2\u001b[0;31m \u001b[0mresult\u001b[0m \u001b[0;34m=\u001b[0m \u001b[0;34m\"HEllo\"\u001b[0m \u001b[0;34m+\u001b[0m \u001b[0;36m5\u001b[0m\u001b[0;34m\u001b[0m\u001b[0;34m\u001b[0m\u001b[0m\n\u001b[0m",
            "\u001b[0;31mTypeError\u001b[0m: can only concatenate str (not \"int\") to str"
          ]
        }
      ]
    },
    {
      "cell_type": "code",
      "source": [
        "result = \"hrllo \" +str(5)\n",
        "print(result)"
      ],
      "metadata": {
        "colab": {
          "base_uri": "https://localhost:8080/"
        },
        "id": "816XuOAs45-B",
        "outputId": "a9ce18d1-f3ea-4680-bc4d-e223d3343fab"
      },
      "execution_count": 11,
      "outputs": [
        {
          "output_type": "stream",
          "name": "stdout",
          "text": [
            "hrllo 5\n"
          ]
        }
      ]
    },
    {
      "cell_type": "code",
      "source": [
        "result = \"Hello\" + str( 5)\n",
        "print(result)"
      ],
      "metadata": {
        "colab": {
          "base_uri": "https://localhost:8080/"
        },
        "id": "eFiz9X004raa",
        "outputId": "58b9637e-79f1-4736-9f7c-30db78b277a4"
      },
      "execution_count": 10,
      "outputs": [
        {
          "output_type": "stream",
          "name": "stdout",
          "text": [
            "Hello5\n"
          ]
        }
      ]
    },
    {
      "cell_type": "code",
      "source": [],
      "metadata": {
        "id": "2FW8tysB41YA"
      },
      "execution_count": null,
      "outputs": []
    }
  ]
}