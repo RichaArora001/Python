{
  "nbformat": 4,
  "nbformat_minor": 0,
  "metadata": {
    "colab": {
      "provenance": []
    },
    "kernelspec": {
      "name": "python3",
      "display_name": "Python 3"
    },
    "language_info": {
      "name": "python"
    }
  },
  "cells": [
    {
      "cell_type": "markdown",
      "source": [
        "Arithmetic Operators:\n",
        "Addition,\n",
        "Subtraction,\n",
        "Multiplication,\n",
        "Division,\n",
        "Floor Division,\n",
        "Modulus,\n",
        "Exponentiation\n",
        "\n",
        "Comparison Operators:\n",
        "Equal to,\n",
        "Not equal to,\n",
        "Greater than,\n",
        "Less than,\n",
        "Greater than or equal to,\n",
        "Less than or equal to\n",
        "\n",
        "Logical Operators:\n",
        "AND,\n",
        "OR,\n",
        "NOT"
      ],
      "metadata": {
        "id": "vdo1afrUia9G"
      }
    },
    {
      "cell_type": "code",
      "source": [
        "## Arithmetic Operation\n",
        "a = 21\n",
        "b = 5\n",
        "\n",
        "add = a+b\n",
        "sub = a-b\n",
        "mult = a*b\n",
        "div = a/b\n",
        "floor = a//b    # gives floor part of division result\n",
        "modulus = a%b   # gives the remainder\n",
        "exponential = a**b\n",
        "\n",
        "print(add)\n",
        "print(sub)\n",
        "print(mult)\n",
        "print(div)\n",
        "print(floor)\n",
        "print(modulus)\n",
        "print(exponential)"
      ],
      "metadata": {
        "colab": {
          "base_uri": "https://localhost:8080/"
        },
        "id": "NtLh15gniiwc",
        "outputId": "c585de68-8079-4946-8215-47cfa65a5ff6"
      },
      "execution_count": 3,
      "outputs": [
        {
          "output_type": "stream",
          "name": "stdout",
          "text": [
            "26\n",
            "16\n",
            "105\n",
            "4.2\n",
            "4\n",
            "1\n",
            "4084101\n"
          ]
        }
      ]
    },
    {
      "cell_type": "code",
      "source": [
        "## Comparision operators\n",
        "## equal to ==\n",
        "a = 10\n",
        "b = 10\n",
        "a == b"
      ],
      "metadata": {
        "colab": {
          "base_uri": "https://localhost:8080/"
        },
        "id": "helgTq2ojgjt",
        "outputId": "2369b10c-71ae-4638-8a2d-e86268043069"
      },
      "execution_count": 4,
      "outputs": [
        {
          "output_type": "execute_result",
          "data": {
            "text/plain": [
              "True"
            ]
          },
          "metadata": {},
          "execution_count": 4
        }
      ]
    },
    {
      "cell_type": "code",
      "source": [
        "str1 =\"Richa\"\n",
        "str2 =\"Richa\"\n",
        "str1 == str2"
      ],
      "metadata": {
        "colab": {
          "base_uri": "https://localhost:8080/"
        },
        "id": "LhqfCik4j7Df",
        "outputId": "25a33717-8bc9-4716-f19d-19a5c5cd5ce6"
      },
      "execution_count": 5,
      "outputs": [
        {
          "output_type": "execute_result",
          "data": {
            "text/plain": [
              "True"
            ]
          },
          "metadata": {},
          "execution_count": 5
        }
      ]
    },
    {
      "cell_type": "code",
      "source": [
        "## Not Equal to !=\n",
        "str1 != str2"
      ],
      "metadata": {
        "colab": {
          "base_uri": "https://localhost:8080/"
        },
        "id": "a-TITDJ3kLLo",
        "outputId": "3619ca25-bc70-45d7-98f4-8b8993c24db8"
      },
      "execution_count": 6,
      "outputs": [
        {
          "output_type": "execute_result",
          "data": {
            "text/plain": [
              "False"
            ]
          },
          "metadata": {},
          "execution_count": 6
        }
      ]
    },
    {
      "cell_type": "code",
      "source": [
        "str3 = \"Richa\"\n",
        "str4 = \"richa\"\n",
        "str3 != str4"
      ],
      "metadata": {
        "colab": {
          "base_uri": "https://localhost:8080/"
        },
        "id": "TIJEAhXwkRfz",
        "outputId": "26a2f873-4ac7-43e8-f4bd-b7998db58e8a"
      },
      "execution_count": 7,
      "outputs": [
        {
          "output_type": "execute_result",
          "data": {
            "text/plain": [
              "True"
            ]
          },
          "metadata": {},
          "execution_count": 7
        }
      ]
    },
    {
      "cell_type": "code",
      "source": [
        "# greater than >\n",
        "num1 = 45\n",
        "num2 = 55\n",
        "num1 > num2"
      ],
      "metadata": {
        "colab": {
          "base_uri": "https://localhost:8080/"
        },
        "id": "Kbb5BWQLkZ1N",
        "outputId": "11438960-d172-4c8a-c73b-a578ba11bbd8"
      },
      "execution_count": 8,
      "outputs": [
        {
          "output_type": "execute_result",
          "data": {
            "text/plain": [
              "False"
            ]
          },
          "metadata": {},
          "execution_count": 8
        }
      ]
    },
    {
      "cell_type": "code",
      "source": [
        "## less than <\n",
        "num1 < num2"
      ],
      "metadata": {
        "colab": {
          "base_uri": "https://localhost:8080/"
        },
        "id": "W6lQX8C5lXK_",
        "outputId": "1a2fa1d2-357c-44d5-e083-ccc1dabc2af1"
      },
      "execution_count": 9,
      "outputs": [
        {
          "output_type": "execute_result",
          "data": {
            "text/plain": [
              "True"
            ]
          },
          "metadata": {},
          "execution_count": 9
        }
      ]
    },
    {
      "cell_type": "code",
      "source": [
        "print(num1 < num2)"
      ],
      "metadata": {
        "colab": {
          "base_uri": "https://localhost:8080/"
        },
        "id": "SMDmRijCla52",
        "outputId": "930e9c1a-70cb-43cb-b785-c7f1b8e07d1b"
      },
      "execution_count": 10,
      "outputs": [
        {
          "output_type": "stream",
          "name": "stdout",
          "text": [
            "True\n"
          ]
        }
      ]
    },
    {
      "cell_type": "code",
      "source": [
        "## Greater than or equal to >=\n",
        "## less than or equal to <=\n",
        "num1 = 45\n",
        "num2 = 45\n",
        "print(num1 >= num2)\n",
        "print(num1 <= num2)"
      ],
      "metadata": {
        "colab": {
          "base_uri": "https://localhost:8080/"
        },
        "id": "yk1DVi9qlwNc",
        "outputId": "4a411f60-71e6-4f04-dc88-fd353b332389"
      },
      "execution_count": 11,
      "outputs": [
        {
          "output_type": "stream",
          "name": "stdout",
          "text": [
            "True\n",
            "True\n"
          ]
        }
      ]
    },
    {
      "cell_type": "code",
      "source": [
        "### Logical operators\n",
        "## AND (*)\n",
        "## it returns true only and only when both are true(1*1 = 1)\n",
        "X = True\n",
        "Y = False\n",
        "X and Y"
      ],
      "metadata": {
        "colab": {
          "base_uri": "https://localhost:8080/"
        },
        "id": "uoH2m0a0mJYS",
        "outputId": "9b884b8c-cc49-4452-941b-cbbdc5cec899"
      },
      "execution_count": 13,
      "outputs": [
        {
          "output_type": "execute_result",
          "data": {
            "text/plain": [
              "False"
            ]
          },
          "metadata": {},
          "execution_count": 13
        }
      ]
    },
    {
      "cell_type": "code",
      "source": [
        "Z = True\n",
        "X and Z"
      ],
      "metadata": {
        "colab": {
          "base_uri": "https://localhost:8080/"
        },
        "id": "2FVCLO5jm2sw",
        "outputId": "723d8b4b-a437-4d43-cde2-a5128e92e9c9"
      },
      "execution_count": 14,
      "outputs": [
        {
          "output_type": "execute_result",
          "data": {
            "text/plain": [
              "True"
            ]
          },
          "metadata": {},
          "execution_count": 14
        }
      ]
    },
    {
      "cell_type": "code",
      "source": [
        "Y and Z"
      ],
      "metadata": {
        "colab": {
          "base_uri": "https://localhost:8080/"
        },
        "id": "Nk4jsbjAnLwB",
        "outputId": "faa00869-e172-40b1-e894-76ab8a18dee3"
      },
      "execution_count": 15,
      "outputs": [
        {
          "output_type": "execute_result",
          "data": {
            "text/plain": [
              "False"
            ]
          },
          "metadata": {},
          "execution_count": 15
        }
      ]
    },
    {
      "cell_type": "code",
      "source": [
        "A = False\n",
        "Y and A"
      ],
      "metadata": {
        "colab": {
          "base_uri": "https://localhost:8080/"
        },
        "id": "jQszjmzLnOWf",
        "outputId": "a17d789f-8b7e-42b6-e6ce-3cb2baf1e07c"
      },
      "execution_count": 16,
      "outputs": [
        {
          "output_type": "execute_result",
          "data": {
            "text/plain": [
              "False"
            ]
          },
          "metadata": {},
          "execution_count": 16
        }
      ]
    },
    {
      "cell_type": "code",
      "source": [
        "## OR (+)\n",
        "## Result is False only and only if both are False (0 + 0 = 0)\n",
        "Y OR A"
      ],
      "metadata": {
        "colab": {
          "base_uri": "https://localhost:8080/",
          "height": 106
        },
        "id": "7d3cjxmvnT7a",
        "outputId": "0b441b58-d9c1-4438-b998-8e51b787c0df"
      },
      "execution_count": 17,
      "outputs": [
        {
          "output_type": "error",
          "ename": "SyntaxError",
          "evalue": "invalid syntax (<ipython-input-17-04e2f2f484f8>, line 3)",
          "traceback": [
            "\u001b[0;36m  File \u001b[0;32m\"<ipython-input-17-04e2f2f484f8>\"\u001b[0;36m, line \u001b[0;32m3\u001b[0m\n\u001b[0;31m    Y OR A\u001b[0m\n\u001b[0m      ^\u001b[0m\n\u001b[0;31mSyntaxError\u001b[0m\u001b[0;31m:\u001b[0m invalid syntax\n"
          ]
        }
      ]
    },
    {
      "cell_type": "code",
      "source": [
        "Y or A"
      ],
      "metadata": {
        "colab": {
          "base_uri": "https://localhost:8080/"
        },
        "id": "byhCPqOgns4S",
        "outputId": "eefe98c3-0431-468a-8699-3724bc57cc79"
      },
      "execution_count": 18,
      "outputs": [
        {
          "output_type": "execute_result",
          "data": {
            "text/plain": [
              "False"
            ]
          },
          "metadata": {},
          "execution_count": 18
        }
      ]
    },
    {
      "cell_type": "code",
      "source": [
        "X or Z"
      ],
      "metadata": {
        "colab": {
          "base_uri": "https://localhost:8080/"
        },
        "id": "wzRXaUObnyJd",
        "outputId": "7810944f-8984-4715-8582-3a25a7525862"
      },
      "execution_count": 19,
      "outputs": [
        {
          "output_type": "execute_result",
          "data": {
            "text/plain": [
              "True"
            ]
          },
          "metadata": {},
          "execution_count": 19
        }
      ]
    },
    {
      "cell_type": "code",
      "source": [
        "X or Y"
      ],
      "metadata": {
        "colab": {
          "base_uri": "https://localhost:8080/"
        },
        "id": "Cb0R3yD7o-xu",
        "outputId": "8700c893-3f87-4ea9-b3ed-fca7aacedd27"
      },
      "execution_count": 20,
      "outputs": [
        {
          "output_type": "execute_result",
          "data": {
            "text/plain": [
              "True"
            ]
          },
          "metadata": {},
          "execution_count": 20
        }
      ]
    },
    {
      "cell_type": "code",
      "source": [
        "## Not Operator\n",
        "X = False\n",
        "not X"
      ],
      "metadata": {
        "colab": {
          "base_uri": "https://localhost:8080/"
        },
        "id": "cxAWHCbopEzr",
        "outputId": "fa34d228-16fe-4e48-d3cd-0bc9f8971f29"
      },
      "execution_count": 21,
      "outputs": [
        {
          "output_type": "execute_result",
          "data": {
            "text/plain": [
              "True"
            ]
          },
          "metadata": {},
          "execution_count": 21
        }
      ]
    },
    {
      "cell_type": "code",
      "source": [
        "## Simple Calculator\n",
        "\n",
        "a = float(input(\"Enter num1: \"))\n",
        "b = float(input(\"Enter num2: \"))\n",
        "\n",
        "add = a+b\n",
        "sub = a-b\n",
        "mult = a*b\n",
        "div = a/b\n",
        "floor = a//b    # gives floor part of division result\n",
        "modulus = a%b   # gives the remainder\n",
        "exponential = a**b\n",
        "\n",
        "print(\"add: \" ,add)\n",
        "print(\"sub: \", sub)\n",
        "print(\"mult: \", mult)\n",
        "print(\"div: \",div)\n",
        "print(\"floor: \",floor)\n",
        "print(\"modulus: \" ,modulus)\n",
        "print(\"exponential: \" ,exponential)"
      ],
      "metadata": {
        "colab": {
          "base_uri": "https://localhost:8080/"
        },
        "id": "xRCfkgUspMpW",
        "outputId": "a8d51997-a4e2-4293-c79c-1a29d6bc3a1a"
      },
      "execution_count": 22,
      "outputs": [
        {
          "output_type": "stream",
          "name": "stdout",
          "text": [
            "Enter num1: 5\n",
            "Enter num2: 2\n",
            "add:  7.0\n",
            "sub:  3.0\n",
            "mult:  10.0\n",
            "div:  2.5\n",
            "floor:  2.0\n",
            "modulus:  1.0\n",
            "exponential:  25.0\n"
          ]
        }
      ]
    },
    {
      "cell_type": "code",
      "source": [],
      "metadata": {
        "id": "5ZpaSmdRp8lb"
      },
      "execution_count": null,
      "outputs": []
    }
  ]
}